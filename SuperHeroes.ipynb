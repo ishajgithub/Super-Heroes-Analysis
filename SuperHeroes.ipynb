{
  "cells": [
    {
      "metadata": {
        "_uuid": "8f2839f25d086af736a60e9eeb907d3b93b6e0e5",
        "_cell_guid": "b1076dfc-b9ad-4769-8c92-a6c4dae69d19",
        "trusted": true,
        "collapsed": true
      },
      "cell_type": "code",
      "source": "# This Python 3 environment comes with many helpful analytics libraries installed\n# It is defined by the kaggle/python docker image: https://github.com/kaggle/docker-python\n# For example, here's several helpful packages to load in \n\nimport numpy as np # linear algebra\nimport pandas as pd # data processing, CSV file I/O (e.g. pd.read_csv)\n\n# Input data files are available in the \"../input/\" directory.\n# For example, running this (by clicking run or pressing Shift+Enter) will list the files in the input directory\n\nimport os\nprint(os.listdir(\"../input\"))\n\n# Any results you write to the current directory are saved as output.",
      "execution_count": null,
      "outputs": []
    },
    {
      "metadata": {
        "_cell_guid": "79c7e3d0-c299-4dcb-8224-4455121ee9b0",
        "_uuid": "d629ff2d2480ee46fbb7e2d37f6b5fab8052498a",
        "trusted": true,
        "collapsed": true
      },
      "cell_type": "code",
      "source": "import numpy as np\nimport pandas as pd\nimport matplotlib.pyplot as plt\nimport seaborn as sns\n\nimport plotly.offline as py\ncolor = sns.color_palette()\nimport plotly.graph_objs as go\nfrom plotly import tools\npy.init_notebook_mode(connected=True)\n%matplotlib inline\n\nimport warnings\nwarnings.filterwarnings('ignore')",
      "execution_count": 25,
      "outputs": []
    },
    {
      "metadata": {
        "trusted": true,
        "collapsed": true,
        "_uuid": "dfcff174ebb5af82db618ddac9b28a6c21a191b8"
      },
      "cell_type": "code",
      "source": "info = pd.read_csv('../input/heroes_information.csv')\npowers = pd.read_csv('../input/super_hero_powers.csv')",
      "execution_count": 2,
      "outputs": []
    },
    {
      "metadata": {
        "trusted": true,
        "_uuid": "2e8c375e9a79ddeb5e92488c0c5133bf23f70a8e",
        "collapsed": true
      },
      "cell_type": "code",
      "source": "info.head()",
      "execution_count": 3,
      "outputs": []
    },
    {
      "metadata": {
        "trusted": true,
        "_uuid": "a36cc6b8811146f30dca6992a3fd910daba97107",
        "collapsed": true
      },
      "cell_type": "code",
      "source": "#preprocessing\ninfo.isnull().sum()",
      "execution_count": 4,
      "outputs": []
    },
    {
      "metadata": {
        "trusted": true,
        "_uuid": "6e68d3f78438ddbf7abc4ab2fe8e6e034f322d8d",
        "collapsed": true
      },
      "cell_type": "code",
      "source": "info['Publisher'].value_counts()",
      "execution_count": 5,
      "outputs": []
    },
    {
      "metadata": {
        "trusted": true,
        "collapsed": true,
        "_uuid": "78e0c336d4bbefb2abe790f1f0f3516e29b7adc1"
      },
      "cell_type": "code",
      "source": "#treat missing values\ninfo.replace(to_replace='-', value = 'Other',inplace=True)\ninfo['Publisher'].fillna('Other',inplace=True)",
      "execution_count": 6,
      "outputs": []
    },
    {
      "metadata": {
        "trusted": true,
        "_uuid": "ee78e1327b8248f89d64de5f2a9f98a7894a0825",
        "collapsed": true
      },
      "cell_type": "code",
      "source": "#drop column 'Unnamed'\ninfo.drop('Unnamed: 0',axis=1,inplace=True)",
      "execution_count": 7,
      "outputs": []
    },
    {
      "metadata": {
        "trusted": true,
        "_uuid": "f1f6dddbb733e0ba140c57db477511da49e750b5",
        "collapsed": true
      },
      "cell_type": "code",
      "source": "info.head()",
      "execution_count": 8,
      "outputs": []
    },
    {
      "metadata": {
        "_uuid": "a03ba04b70c5a8e83031f0ce74ce5ba515efe294"
      },
      "cell_type": "markdown",
      "source": "**  Which comic(Publisher) has the highest number of Superheroes? **"
    },
    {
      "metadata": {
        "trusted": true,
        "_uuid": "0bfa81fb8fb6da1e3787c7997842c705a1423932",
        "collapsed": true
      },
      "cell_type": "code",
      "source": "info.groupby('Publisher')['name'].count().sort_values(ascending=False)",
      "execution_count": 9,
      "outputs": []
    },
    {
      "metadata": {
        "trusted": true,
        "_uuid": "e5367c38a90f4191e3e866599669f21070156157",
        "collapsed": true
      },
      "cell_type": "code",
      "source": "sns.countplot(x='Gender', data = info)",
      "execution_count": 10,
      "outputs": []
    },
    {
      "metadata": {
        "_uuid": "be8e48ced00ab9648df4bd99a1889458a94afc66"
      },
      "cell_type": "markdown",
      "source": "Most superheroes are Male"
    },
    {
      "metadata": {
        "trusted": true,
        "_uuid": "00f98fffa30ceb5b61395819721a344877ee2811",
        "collapsed": true
      },
      "cell_type": "code",
      "source": "sns.countplot(x='Alignment', data=info, hue='Gender')",
      "execution_count": 11,
      "outputs": []
    },
    {
      "metadata": {
        "_uuid": "c19733fa12687d6bf73c2d1e52fb52802fd06df6"
      },
      "cell_type": "markdown",
      "source": "Most of the good superheros are male. However the number of bad superheroes and the number of good female superheroes are almost same. There are some superheroes that are neutral as well."
    },
    {
      "metadata": {
        "trusted": true,
        "_uuid": "73236d568ae9ce00501ea7cfc86af74a32c8c087",
        "collapsed": true
      },
      "cell_type": "code",
      "source": "#which publisher has more good v/s bad heroes\nalignment_publisher = info[['Publisher', 'Alignment']]\nalignment_publisher.head()",
      "execution_count": 12,
      "outputs": []
    },
    {
      "metadata": {
        "trusted": true,
        "_uuid": "333149c0e23645c998d506893c9d025b48bab8bb",
        "collapsed": true
      },
      "cell_type": "code",
      "source": "fig, ax = plt.subplots()\n\nfig.set_size_inches(18,10)\nsns.countplot(x=alignment_publisher['Publisher'], data=alignment_publisher, hue='Alignment')",
      "execution_count": 13,
      "outputs": []
    },
    {
      "metadata": {
        "_uuid": "51cc3cdac3a438da7d11c53f9bbbd37923657d08"
      },
      "cell_type": "markdown",
      "source": "as seen from figure, Marvel & DC comics have most number of superheroes so we will explore it (in the later section)."
    },
    {
      "metadata": {
        "trusted": true,
        "_uuid": "dc739aab6d768fae9fc10ed969acaae8c9f16bca",
        "collapsed": true
      },
      "cell_type": "code",
      "source": "powers.head()",
      "execution_count": 28,
      "outputs": []
    },
    {
      "metadata": {
        "trusted": true,
        "collapsed": true,
        "_uuid": "e4dc0b8952e6994072bcdeab61dbbc0a775feade"
      },
      "cell_type": "code",
      "source": "#convert True to 1 and false to 0\npower = powers*1",
      "execution_count": 29,
      "outputs": []
    },
    {
      "metadata": {
        "trusted": true,
        "_uuid": "86dae4dece90cd43d105a78e452ccd5f2814d4bc",
        "collapsed": true
      },
      "cell_type": "code",
      "source": "power.head()",
      "execution_count": 30,
      "outputs": []
    },
    {
      "metadata": {
        "trusted": true,
        "_uuid": "ea5a58b79ddb9c5d090d99bcbd893b2d36d39bfe",
        "collapsed": true
      },
      "cell_type": "code",
      "source": "power.loc[:, 'no_of_powers'] = power.iloc[:, 1:].sum(axis=1)",
      "execution_count": 31,
      "outputs": []
    },
    {
      "metadata": {
        "trusted": true,
        "_uuid": "c13ef73897acaaa155cd3ca27dbf520134f38dc0",
        "collapsed": true
      },
      "cell_type": "code",
      "source": "powerful_hero=power[['hero_names','no_of_powers']]",
      "execution_count": 32,
      "outputs": []
    },
    {
      "metadata": {
        "trusted": true,
        "_uuid": "3f9d93411882e009087e69db809ddb385caba627",
        "collapsed": true
      },
      "cell_type": "code",
      "source": "powerful_hero = powerful_hero.sort_values(by='no_of_powers', ascending=False)\npowerful_hero",
      "execution_count": 33,
      "outputs": []
    },
    {
      "metadata": {
        "_uuid": "256e7debe5af09e91edc238195bfc4b375913ab3"
      },
      "cell_type": "markdown",
      "source": "Spectre has highest number of powers whereas Amazo is on second place with 44 powers"
    },
    {
      "metadata": {
        "trusted": true,
        "_uuid": "d649b4daa4c2f45dd2a9516f2eac17952e8aa0d4",
        "collapsed": true
      },
      "cell_type": "code",
      "source": "#plot top 10 superheroes\nfig, ax = plt.subplots()\n\nfig.set_size_inches(14,10.8)\nsns.barplot(x=powerful_hero['hero_names'].head(10), y=powerful_hero['no_of_powers'].head(10), data=powerful_hero)",
      "execution_count": 34,
      "outputs": []
    },
    {
      "metadata": {
        "_uuid": "b80065933e228e7f8bfe86dd474072315204d9d6"
      },
      "cell_type": "markdown",
      "source": "None of superman/captain america are in top 10"
    },
    {
      "metadata": {
        "trusted": true,
        "_uuid": "e9098de7f0fbf4e7f53c80aad51b1bf7f94d200a",
        "collapsed": true
      },
      "cell_type": "code",
      "source": "#height for top superheroes\nnewdata = info.merge(powerful_hero, how = 'inner', left_on='name', right_on='hero_names' )\nnewdata.drop('hero_names', axis=1, inplace=True)\nnewdata.head()",
      "execution_count": 35,
      "outputs": []
    },
    {
      "metadata": {
        "_uuid": "36b113e061cc65722278f82646e1cdfe34837ff6"
      },
      "cell_type": "markdown",
      "source": "There are some superheros who dont have any power. So to avoid those values, i have used inner join"
    },
    {
      "metadata": {
        "trusted": true,
        "_uuid": "eb571d278122219f9ca352ccdcfa411ce763b7cd",
        "collapsed": true
      },
      "cell_type": "code",
      "source": "newdata['Height'].max()\n",
      "execution_count": 36,
      "outputs": []
    },
    {
      "metadata": {
        "trusted": true,
        "_uuid": "5a3ff4cf99c9f01f2637dc15799228e000d69e8d",
        "collapsed": true
      },
      "cell_type": "code",
      "source": "newdata[newdata['Height']==975]",
      "execution_count": 37,
      "outputs": []
    },
    {
      "metadata": {
        "trusted": true,
        "_uuid": "56982c6ee2bf6cd780cf2157b310fb9ec8a18bdc",
        "collapsed": true
      },
      "cell_type": "code",
      "source": "newdata['Height'].min()\nnewdata[newdata['Height']==-99]",
      "execution_count": 38,
      "outputs": []
    },
    {
      "metadata": {
        "_uuid": "d5eea27be36dfae4a982cb9cd2373ead980e3381"
      },
      "cell_type": "markdown",
      "source": "There are a lot of superheros that have minimum height . Thus, exploring the relationship between height and number of powers"
    },
    {
      "metadata": {
        "trusted": true,
        "_uuid": "8d089b67e722174730b2dafa088b6631a8bb9891",
        "collapsed": true
      },
      "cell_type": "code",
      "source": "#height based on number of powers\nheight_power = newdata[['name','Height', 'no_of_powers']]\nsorted_height = height_power.sort_values(by='no_of_powers', ascending=False)",
      "execution_count": 39,
      "outputs": []
    },
    {
      "metadata": {
        "trusted": true,
        "_uuid": "63e48948b9e0947255ae6f55d192d316f14f8876",
        "collapsed": true
      },
      "cell_type": "code",
      "source": "sorted_height.plot(x='no_of_powers', y='Height', kind='line')",
      "execution_count": 40,
      "outputs": []
    },
    {
      "metadata": {
        "_uuid": "88eb46fa5df73aed3d368f2a063545d6cd2a4caf"
      },
      "cell_type": "markdown",
      "source": "above graph proves that number of powers is not related to height. Superheroes with highest number of powers are smallest."
    },
    {
      "metadata": {
        "trusted": true,
        "_uuid": "024113e8594f7b5e8cdd0f429dc73244cfa1d1d8",
        "collapsed": true
      },
      "cell_type": "code",
      "source": "newdata['Weight'].max()",
      "execution_count": 41,
      "outputs": []
    },
    {
      "metadata": {
        "trusted": true,
        "_uuid": "b0a2f1e4322402acd81871bd3b272fe0fe4c353c",
        "collapsed": true
      },
      "cell_type": "code",
      "source": "newdata[newdata['Weight']==900]",
      "execution_count": 42,
      "outputs": []
    },
    {
      "metadata": {
        "trusted": true,
        "_uuid": "83780410dfe47e707ca0db8a0805a23d6b5f153f",
        "collapsed": true
      },
      "cell_type": "code",
      "source": "#height based on number of powers\nweight_power = newdata[['name','Weight', 'no_of_powers']]\nsorted_weight = weight_power.sort_values(by='no_of_powers', ascending=False)\nsorted_weight.head()",
      "execution_count": 43,
      "outputs": []
    },
    {
      "metadata": {
        "trusted": true,
        "_uuid": "bd78dc2ac685aafb9bc7fe799a25416aeedb52a7",
        "collapsed": true
      },
      "cell_type": "code",
      "source": "sorted_weight.plot(x='no_of_powers', y='Weight', kind='line')",
      "execution_count": 44,
      "outputs": []
    },
    {
      "metadata": {
        "_uuid": "c9e8884ac8d8cc408ca34deeb7ffae8093d430a9"
      },
      "cell_type": "markdown",
      "source": "Superhero with most powers has very low weight. But we can't relate weight directly to the number of powers, as superhero's in top 10 are a li'l on the heavier side as well."
    },
    {
      "metadata": {
        "trusted": true,
        "_uuid": "6f6bfc993923264e85d17c48e382dec3dfb2aae8",
        "collapsed": true
      },
      "cell_type": "code",
      "source": "#explore marvel comics and dc comics data\nmarvel_data = newdata[newdata['Publisher']=='Marvel Comics']\nmarvel_data.head()",
      "execution_count": 52,
      "outputs": []
    },
    {
      "metadata": {
        "trusted": true,
        "_uuid": "3c24528b0bfbe41922145a65c682e7d9e858e83c",
        "collapsed": true
      },
      "cell_type": "code",
      "source": "dc_data = newdata[newdata['Publisher']=='DC Comics']\ndc_data.head()",
      "execution_count": 88,
      "outputs": []
    },
    {
      "metadata": {
        "trusted": true,
        "_uuid": "64da03c57bef43765b6d445c2df47d424c61ed06",
        "collapsed": true
      },
      "cell_type": "code",
      "source": "#gender distribution withing Marvel Comics\ngender_series = marvel_data['Gender'].value_counts()\ngender = list(gender_series.index)\ngender_percentage = list((gender_series/gender_series.sum())*100)\n\ndc_gender_series = dc_data['Gender'].value_counts()\ndc_gender = list(dc_gender_series.index)\ndc_distribution = list((dc_gender_series/dc_gender_series.sum())*100)\n\n",
      "execution_count": 73,
      "outputs": []
    },
    {
      "metadata": {
        "trusted": true,
        "_uuid": "36c970ace6825946d6450d70ee08633324778c0e",
        "collapsed": true
      },
      "cell_type": "code",
      "source": "fig = {\n    'data': [\n        {\n            'labels': gender,\n            'values': gender_percentage,\n            'type': 'pie',\n            'name': 'marvel gender distribution',\n            'domain': {'x': [0, .48],\n                       'y': [0, .49]},\n            'hoverinfo':'percent+name',\n            'textinfo':'label'\n            \n        },\n        {\n            'labels': dc_gender,\n            'values': dc_distribution,\n            'type': 'pie',\n            'name': 'DC gender distribution',\n            'domain': {'x': [.52, 1],\n                       'y': [0, .49]},\n            'hoverinfo':'percent+name',\n            'textinfo':'label'\n\n        },\n       \n    ],\n    'layout': {'title': 'Comics gender distribution',\n               'showlegend': True}\n}\n\npy.iplot(fig, filename='pie_chart_subplots')",
      "execution_count": 86,
      "outputs": []
    },
    {
      "metadata": {
        "_uuid": "e342ec9fa1ae1c80f1e00079bf8848ee69dcf58d"
      },
      "cell_type": "markdown",
      "source": "Marvel comics has more number of superheroes overall.But (as seen from the charts), \nDC comics has 71.9% male superheroes whereas Marvel comics only has 66.6%.\nwhereas Marvel Comics has 29% females superheroes but DC comics only has 27.6% female superheroes. "
    },
    {
      "metadata": {
        "trusted": true,
        "_uuid": "096cac07de11b449e06dfdb05ebe68b92a414424",
        "collapsed": true
      },
      "cell_type": "code",
      "source": "",
      "execution_count": 53,
      "outputs": []
    },
    {
      "metadata": {
        "trusted": true,
        "_uuid": "7c7ac486df6bc83bd68012736e9a80420e1df468",
        "collapsed": true
      },
      "cell_type": "code",
      "source": "dc_data['Gender'].value_counts()",
      "execution_count": 64,
      "outputs": []
    },
    {
      "metadata": {
        "trusted": true,
        "_uuid": "edf26a46efef90e9ee58764c4373103ca96fa531",
        "collapsed": true
      },
      "cell_type": "code",
      "source": "gender_series",
      "execution_count": 87,
      "outputs": []
    },
    {
      "metadata": {
        "trusted": true,
        "collapsed": true,
        "_uuid": "d216c3db2ff1febfa14391f41084531d38f2e2af"
      },
      "cell_type": "code",
      "source": "",
      "execution_count": null,
      "outputs": []
    }
  ],
  "metadata": {
    "kernelspec": {
      "display_name": "Python 3",
      "language": "python",
      "name": "python3"
    },
    "language_info": {
      "name": "python",
      "version": "3.6.5",
      "mimetype": "text/x-python",
      "codemirror_mode": {
        "name": "ipython",
        "version": 3
      },
      "pygments_lexer": "ipython3",
      "nbconvert_exporter": "python",
      "file_extension": ".py"
    }
  },
  "nbformat": 4,
  "nbformat_minor": 1
}
